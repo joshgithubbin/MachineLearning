{
 "cells": [
  {
   "cell_type": "markdown",
   "metadata": {},
   "source": [
    "<h1><b>MODELLING STUDENT CITIES</b></h1>\n",
    "\n",
    "The goal of this project is to examine differences between universities in the north and south of England based on types of venue.\n",
    "\n",
    "First, we import the relevant modules."
   ]
  },
  {
   "cell_type": "code",
   "execution_count": 1,
   "metadata": {},
   "outputs": [],
   "source": [
    "import pandas as pd\n",
    "import json\n",
    "import requests # library to handle requests\n",
    "import math\n",
    "\n",
    "from pandas.io.json import json_normalize # tranform JSON file into a pandas dataframe\n",
    "\n",
    "# Matplotlib and associated plotting modules\n",
    "import matplotlib.cm as cm\n",
    "import matplotlib.colors as colors\n",
    "\n",
    "# import k-means from clustering stage\n",
    "from sklearn.cluster import KMeans\n",
    "\n",
    "#!conda install -c conda-forge folium=0.5.0 --yes\n",
    "import folium # map rendering library\n",
    "\n",
    "import numpy as np\n",
    "\n",
    "import pylab"
   ]
  },
  {
   "cell_type": "markdown",
   "metadata": {},
   "source": [
    "Next, we enter our Foursquare API credentials."
   ]
  },
  {
   "cell_type": "code",
   "execution_count": 2,
   "metadata": {},
   "outputs": [],
   "source": [
    "#foursquare api credentials\n",
    "CLIENT_ID = ''\n",
    "CLIENT_SECRET = '' \n",
    "VERSION = '' # Foursquare API version"
   ]
  },
  {
   "cell_type": "markdown",
   "metadata": {},
   "source": [
    "For ease of programming we now define a series of functions that will streamline the process of getting venues for each university.\n",
    "\n",
    "<i>getNearbyVenues</i> will return the venues within a given radius of a set of coordinates."
   ]
  },
  {
   "cell_type": "code",
   "execution_count": 3,
   "metadata": {},
   "outputs": [],
   "source": [
    "#define useful functions\n",
    "\n",
    "def getNearbyVenues(names, lat, lng, radius=3000,LIMIT=500):\n",
    "    \n",
    "    venues_list=[]\n",
    "        # create the API request URL\n",
    "    url = 'https://api.foursquare.com/v2/venues/explore?&client_id={}&client_secret={}&v={}&ll={},{}&radius={}&limit={}'.format(\n",
    "        CLIENT_ID, \n",
    "        CLIENT_SECRET, \n",
    "        VERSION, \n",
    "        lat, \n",
    "        lng, \n",
    "        radius, \n",
    "        LIMIT)\n",
    "            \n",
    "        # make the GET request\n",
    "    results = requests.get(url).json()[\"response\"]['groups'][0]['items']\n",
    "        \n",
    "        # return only relevant information for each nearby venue\n",
    "    venues_list.append([(\n",
    "        names, \n",
    "        lat, \n",
    "        lng, \n",
    "        v['venue']['name'], \n",
    "        v['venue']['id'],\n",
    "        v['venue']['location']['lat'], \n",
    "        v['venue']['location']['lng'],  \n",
    "        v['venue']['categories'][0]['name']) for v in results])\n",
    "\n",
    "    nearby_venues = pd.DataFrame([item for venue_list in venues_list for item in venue_list])\n",
    "    nearby_venues.columns = ['City', \n",
    "                  'City Latitude', \n",
    "                  'City Longitude', \n",
    "                  'Venue', 'Venue ID', \n",
    "                  'Venue Latitude', \n",
    "                  'Venue Longitude', \n",
    "                  'Venue Category']\n",
    "    \n",
    "    return(nearby_venues)"
   ]
  },
  {
   "cell_type": "markdown",
   "metadata": {},
   "source": [
    "A problem with <i>getNearbyVenues</i> is that it will only return 100 venues - for large areas this isn't ideal. What we can do is generate a series of points around and close to the university, so we can sample more venues in each neighbourhood, using the function <i>geocircle</i>:"
   ]
  },
  {
   "cell_type": "code",
   "execution_count": 4,
   "metadata": {},
   "outputs": [],
   "source": [
    "#create a circle of points from which to calculate a large number of venues\n",
    "#geopy has a function that does this but it has a history of distance issues\n",
    "\n",
    "\n",
    "def geocircle(d, phi, lat, lng, R = 6378.1):\n",
    "    \n",
    "    phi = math.radians(phi)\n",
    "    \n",
    "    lng_1 = math.radians(lng) #convert lat and long to radians\n",
    "    lat_1 = math.radians(lat)\n",
    " \n",
    "    lat_2 = math.asin(math.sin(lat_1)*math.cos(d/R) + \n",
    "                     math.cos(lat_1)*math.sin(d/R)*math.cos(phi))\n",
    "\n",
    "    lng_2 = lng_1 + math.atan2(math.sin(phi)*math.sin(d/R)*\n",
    "                              math.cos(lat_1),math.cos(d/R)\n",
    "                              -math.sin(lat_1)*math.sin(lat_2))\n",
    "    \n",
    "    lat_2 = math.degrees(lat_2)\n",
    "    lng_2 = math.degrees(lng_2)\n",
    "    \n",
    "    return lat_2, lng_2"
   ]
  },
  {
   "cell_type": "markdown",
   "metadata": {},
   "source": [
    "Bringing these two functions together, our last step is remove venues that have been counted multiple times. We combine these steps in the function <i>get_venues</i>:"
   ]
  },
  {
   "cell_type": "code",
   "execution_count": 5,
   "metadata": {},
   "outputs": [],
   "source": [
    "def get_venues(city,city_points):\n",
    "    city_venues = pd.DataFrame() #create empty dataframe\n",
    "\n",
    "    for lt, lg in city_points[0]: #for each point around the university\n",
    "\n",
    "        city_venues = city_venues.append(getNearbyVenues(names = city,\n",
    "                                       lat= lt,\n",
    "                                       lng= lg\n",
    "                                      )) #get venues\n",
    "\n",
    "\n",
    "\n",
    "\n",
    "    city_venues.drop_duplicates('Venue ID',inplace=True) #and drop duplicates\n",
    "\n",
    "    return city_venues"
   ]
  },
  {
   "cell_type": "markdown",
   "metadata": {},
   "source": [
    "<i>get_grouped</i> will onehot encode and normalize the list of venues for each university for ease of analysis by the clustering function."
   ]
  },
  {
   "cell_type": "code",
   "execution_count": 6,
   "metadata": {},
   "outputs": [],
   "source": [
    "def get_grouped(city_venues):\n",
    "    city_onehot = pd.get_dummies(city_venues[['Venue Category']],prefix=\"\",prefix_sep=\"\")\n",
    "    city_onehot['City'] = city_venues['City']\n",
    "    \n",
    "    fixed_columns = [city_onehot.columns[-1]] + list(city_onehot.columns[:-1])\n",
    "    city_onehot = city_onehot[fixed_columns]\n",
    "    \n",
    "    city_grouped = city_onehot.groupby('City').mean().reset_index()\n",
    "    \n",
    "    return city_grouped"
   ]
  },
  {
   "cell_type": "markdown",
   "metadata": {},
   "source": [
    "<i>return_most_common_venues</i> will return the top ten venues for each university for ease of analysis by us!"
   ]
  },
  {
   "cell_type": "code",
   "execution_count": 7,
   "metadata": {},
   "outputs": [],
   "source": [
    "def return_most_common_venues(row, num_top_venues):\n",
    "    row_categories = row.iloc[1:]\n",
    "    row_categories_sorted = row_categories.sort_values(ascending=False)\n",
    "    \n",
    "    #return row_categories_sorted.index.values[0:num_top_venues]\n",
    "    return row_categories_sorted.index.values[0:num_top_venues]"
   ]
  },
  {
   "cell_type": "markdown",
   "metadata": {},
   "source": [
    "Finally, we'll bring it all together in the function <i>get_top_venues</i>:"
   ]
  },
  {
   "cell_type": "code",
   "execution_count": 8,
   "metadata": {},
   "outputs": [],
   "source": [
    "def get_top_venues(city, lat,lng):\n",
    "    \n",
    "    city_points=[] #empty list\n",
    "\n",
    "    bearings = [0.0, 45.0, 90.0, 135.0, 180.0, 225.0, 270.0, 315.0] #bearings in degrees: north, northeast, east, southeast, south...etc\n",
    "\n",
    "    city_points.append([geocircle(3.0, p, lat, lng) for p in bearings]) #now generate points along these bearings for each university\n",
    "    \n",
    "    city_venues = get_venues(city,city_points) #and get the venues around each of these points!\n",
    "    \n",
    "    city_grouped = get_grouped(city_venues) #onehot encoding\n",
    "    \n",
    "    num_top_venues = 10\n",
    "\n",
    "    indicators = ['st', 'nd', 'rd']\n",
    "\n",
    "    # create columns according to number of top venues\n",
    "    columns = ['City']\n",
    "    for ind in np.arange(num_top_venues):\n",
    "        try:\n",
    "            columns.append('{}{} Most Common Venue'.format(ind+1, indicators[ind]))\n",
    "        except:\n",
    "            columns.append('{}th Most Common Venue'.format(ind+1)) \n",
    "\n",
    "    # create a new dataframe\n",
    "    city_venues_sorted = pd.DataFrame(columns=columns)\n",
    "    city_venues_sorted['City'] = city_grouped['City']\n",
    "\n",
    "    for ind in np.arange(city_grouped.shape[0]):\n",
    "        city_venues_sorted.iloc[ind, 1:] = return_most_common_venues(city_grouped.iloc[ind, :], num_top_venues) #get the top ten venues\n",
    "\n",
    "    n=10\n",
    "    \n",
    "    #create another new dataframe:\n",
    "    city_venues_frequency = city_venues['Venue Category'].value_counts()[:n].rename_axis('Venue Category').reset_index(name='Counts')\n",
    "\n",
    "    for ind in (np.arange(num_top_venues)+1):\n",
    "        try:\n",
    "            city_venues_sorted.insert(2*ind,'{}{} Venue Frequency'.format(ind,indicators[ind-1]),city_venues_frequency['Counts'][ind-1])\n",
    "        except:\n",
    "            city_venues_sorted.insert(2*ind,'{}th Venue Frequency'.format(ind),city_venues_frequency['Counts'][ind-1])\n",
    "\n",
    "        \n",
    "    city_venues_sorted['Unique Categories'] =  len(city_venues['Venue Category'].unique())\n",
    "    city_venues_sorted['Total Venues'] = len(city_venues['Venue Category'])         \n",
    "\n",
    "    return city_venues_sorted,city_grouped\n"
   ]
  },
  {
   "cell_type": "markdown",
   "metadata": {},
   "source": [
    "We're ready to begin analysis. The university.csv has a list of thirty universities with coordinates:"
   ]
  },
  {
   "cell_type": "code",
   "execution_count": 9,
   "metadata": {},
   "outputs": [
    {
     "data": {
      "text/html": [
       "<div>\n",
       "<style scoped>\n",
       "    .dataframe tbody tr th:only-of-type {\n",
       "        vertical-align: middle;\n",
       "    }\n",
       "\n",
       "    .dataframe tbody tr th {\n",
       "        vertical-align: top;\n",
       "    }\n",
       "\n",
       "    .dataframe thead th {\n",
       "        text-align: right;\n",
       "    }\n",
       "</style>\n",
       "<table border=\"1\" class=\"dataframe\">\n",
       "  <thead>\n",
       "    <tr style=\"text-align: right;\">\n",
       "      <th></th>\n",
       "      <th>REGION</th>\n",
       "      <th>UNIVERSITY</th>\n",
       "      <th>LATITUDE</th>\n",
       "      <th>LONGITUDE</th>\n",
       "    </tr>\n",
       "  </thead>\n",
       "  <tbody>\n",
       "    <tr>\n",
       "      <th>0</th>\n",
       "      <td>SOUTH ENGLAND</td>\n",
       "      <td>University of Oxford</td>\n",
       "      <td>51.7548</td>\n",
       "      <td>-1.2544</td>\n",
       "    </tr>\n",
       "    <tr>\n",
       "      <th>1</th>\n",
       "      <td>SOUTH ENGLAND</td>\n",
       "      <td>University of Southampton</td>\n",
       "      <td>50.9351</td>\n",
       "      <td>-1.3958</td>\n",
       "    </tr>\n",
       "    <tr>\n",
       "      <th>2</th>\n",
       "      <td>SOUTH ENGLAND</td>\n",
       "      <td>University of Sussex</td>\n",
       "      <td>50.8671</td>\n",
       "      <td>-0.0879</td>\n",
       "    </tr>\n",
       "    <tr>\n",
       "      <th>3</th>\n",
       "      <td>SOUTH ENGLAND</td>\n",
       "      <td>University of Reading</td>\n",
       "      <td>51.4414</td>\n",
       "      <td>-0.9418</td>\n",
       "    </tr>\n",
       "    <tr>\n",
       "      <th>4</th>\n",
       "      <td>SOUTH ENGLAND</td>\n",
       "      <td>University of Cambridge</td>\n",
       "      <td>52.2043</td>\n",
       "      <td>0.1149</td>\n",
       "    </tr>\n",
       "  </tbody>\n",
       "</table>\n",
       "</div>"
      ],
      "text/plain": [
       "          REGION                 UNIVERSITY  LATITUDE  LONGITUDE\n",
       "0  SOUTH ENGLAND       University of Oxford   51.7548    -1.2544\n",
       "1  SOUTH ENGLAND  University of Southampton   50.9351    -1.3958\n",
       "2  SOUTH ENGLAND       University of Sussex   50.8671    -0.0879\n",
       "3  SOUTH ENGLAND      University of Reading   51.4414    -0.9418\n",
       "4  SOUTH ENGLAND    University of Cambridge   52.2043     0.1149"
      ]
     },
     "execution_count": 9,
     "metadata": {},
     "output_type": "execute_result"
    }
   ],
   "source": [
    "universities = pd.read_csv('university.csv')\n",
    "universities.dropna(inplace=True)\n",
    "\n",
    "universities.head()"
   ]
  },
  {
   "cell_type": "markdown",
   "metadata": {},
   "source": [
    "Now we get venues for each of these universities:"
   ]
  },
  {
   "cell_type": "code",
   "execution_count": 10,
   "metadata": {},
   "outputs": [],
   "source": [
    "universities_full = pd.DataFrame()\n",
    "universities_grouped = pd.DataFrame()\n",
    "\n",
    "for name, latitude, longitude in zip(universities['UNIVERSITY'][20:], universities['LATITUDE'][20:],universities['LONGITUDE'][20:]):\n",
    "    print(name)\n",
    "    universities_full, universities_grouped = universities_full.append(get_top_venues(name, latitude, longitude)[0]), universities_grouped.append(get_top_venues(name,latitude,longitude)[1])"
   ]
  },
  {
   "cell_type": "markdown",
   "metadata": {},
   "source": [
    "This is quite a long process. Luckily I did it earlier and created csvs that we can read from instead of doing it again:"
   ]
  },
  {
   "cell_type": "code",
   "execution_count": 10,
   "metadata": {},
   "outputs": [],
   "source": [
    "universities_grouped = pd.read_csv('university_grouped_full_1.csv')\n",
    "universities_grouped.drop(universities_grouped.columns[[0]],axis=1,inplace=True)\n",
    "\n",
    "universities_full = pd.read_csv('university_venues_full.csv')\n",
    "universities_full.drop(universities_full.columns[[0]],axis=1,inplace=True)"
   ]
  },
  {
   "cell_type": "code",
   "execution_count": 11,
   "metadata": {},
   "outputs": [
    {
     "data": {
      "text/html": [
       "<div>\n",
       "<style scoped>\n",
       "    .dataframe tbody tr th:only-of-type {\n",
       "        vertical-align: middle;\n",
       "    }\n",
       "\n",
       "    .dataframe tbody tr th {\n",
       "        vertical-align: top;\n",
       "    }\n",
       "\n",
       "    .dataframe thead th {\n",
       "        text-align: right;\n",
       "    }\n",
       "</style>\n",
       "<table border=\"1\" class=\"dataframe\">\n",
       "  <thead>\n",
       "    <tr style=\"text-align: right;\">\n",
       "      <th></th>\n",
       "      <th>City</th>\n",
       "      <th>1st Most Common Venue</th>\n",
       "      <th>1st Venue Frequency</th>\n",
       "      <th>2nd Most Common Venue</th>\n",
       "      <th>2nd Venue Frequency</th>\n",
       "      <th>3rd Most Common Venue</th>\n",
       "      <th>3rd Venue Frequency</th>\n",
       "      <th>4th Most Common Venue</th>\n",
       "      <th>4th Venue Frequency</th>\n",
       "      <th>5th Most Common Venue</th>\n",
       "      <th>...</th>\n",
       "      <th>7th Most Common Venue</th>\n",
       "      <th>7th Venue Frequency</th>\n",
       "      <th>8th Most Common Venue</th>\n",
       "      <th>8th Venue Frequency</th>\n",
       "      <th>9th Most Common Venue</th>\n",
       "      <th>9th Venue Frequency</th>\n",
       "      <th>10th Most Common Venue</th>\n",
       "      <th>10th Venue Frequency</th>\n",
       "      <th>Unique Categories</th>\n",
       "      <th>Total Venues</th>\n",
       "    </tr>\n",
       "  </thead>\n",
       "  <tbody>\n",
       "    <tr>\n",
       "      <th>0</th>\n",
       "      <td>University of Oxford</td>\n",
       "      <td>Pub</td>\n",
       "      <td>42</td>\n",
       "      <td>Hotel</td>\n",
       "      <td>15</td>\n",
       "      <td>Grocery Store</td>\n",
       "      <td>13</td>\n",
       "      <td>Coffee Shop</td>\n",
       "      <td>11</td>\n",
       "      <td>Café</td>\n",
       "      <td>...</td>\n",
       "      <td>Supermarket</td>\n",
       "      <td>8</td>\n",
       "      <td>Chinese Restaurant</td>\n",
       "      <td>7</td>\n",
       "      <td>Bakery</td>\n",
       "      <td>7</td>\n",
       "      <td>Restaurant</td>\n",
       "      <td>7</td>\n",
       "      <td>102</td>\n",
       "      <td>279</td>\n",
       "    </tr>\n",
       "    <tr>\n",
       "      <th>1</th>\n",
       "      <td>University of Southampton</td>\n",
       "      <td>Grocery Store</td>\n",
       "      <td>41</td>\n",
       "      <td>Pub</td>\n",
       "      <td>35</td>\n",
       "      <td>Coffee Shop</td>\n",
       "      <td>22</td>\n",
       "      <td>Supermarket</td>\n",
       "      <td>13</td>\n",
       "      <td>Fast Food Restaurant</td>\n",
       "      <td>...</td>\n",
       "      <td>Pizza Place</td>\n",
       "      <td>9</td>\n",
       "      <td>Hotel</td>\n",
       "      <td>8</td>\n",
       "      <td>Bar</td>\n",
       "      <td>7</td>\n",
       "      <td>Italian Restaurant</td>\n",
       "      <td>7</td>\n",
       "      <td>93</td>\n",
       "      <td>314</td>\n",
       "    </tr>\n",
       "    <tr>\n",
       "      <th>2</th>\n",
       "      <td>University of Sussex</td>\n",
       "      <td>Pub</td>\n",
       "      <td>15</td>\n",
       "      <td>Café</td>\n",
       "      <td>13</td>\n",
       "      <td>Coffee Shop</td>\n",
       "      <td>13</td>\n",
       "      <td>Park</td>\n",
       "      <td>9</td>\n",
       "      <td>Grocery Store</td>\n",
       "      <td>...</td>\n",
       "      <td>Pizza Place</td>\n",
       "      <td>3</td>\n",
       "      <td>Gastropub</td>\n",
       "      <td>3</td>\n",
       "      <td>Indian Restaurant</td>\n",
       "      <td>3</td>\n",
       "      <td>Bakery</td>\n",
       "      <td>3</td>\n",
       "      <td>66</td>\n",
       "      <td>139</td>\n",
       "    </tr>\n",
       "    <tr>\n",
       "      <th>3</th>\n",
       "      <td>University of Reading</td>\n",
       "      <td>Pub</td>\n",
       "      <td>35</td>\n",
       "      <td>Grocery Store</td>\n",
       "      <td>16</td>\n",
       "      <td>Coffee Shop</td>\n",
       "      <td>14</td>\n",
       "      <td>Hotel</td>\n",
       "      <td>12</td>\n",
       "      <td>Supermarket</td>\n",
       "      <td>...</td>\n",
       "      <td>Clothing Store</td>\n",
       "      <td>8</td>\n",
       "      <td>Café</td>\n",
       "      <td>8</td>\n",
       "      <td>Gym / Fitness Center</td>\n",
       "      <td>7</td>\n",
       "      <td>Park</td>\n",
       "      <td>7</td>\n",
       "      <td>104</td>\n",
       "      <td>290</td>\n",
       "    </tr>\n",
       "    <tr>\n",
       "      <th>4</th>\n",
       "      <td>University of Cambridge</td>\n",
       "      <td>Pub</td>\n",
       "      <td>39</td>\n",
       "      <td>Coffee Shop</td>\n",
       "      <td>13</td>\n",
       "      <td>Café</td>\n",
       "      <td>12</td>\n",
       "      <td>Grocery Store</td>\n",
       "      <td>11</td>\n",
       "      <td>Hotel</td>\n",
       "      <td>...</td>\n",
       "      <td>Gastropub</td>\n",
       "      <td>7</td>\n",
       "      <td>Burger Joint</td>\n",
       "      <td>6</td>\n",
       "      <td>Supermarket</td>\n",
       "      <td>6</td>\n",
       "      <td>Gym / Fitness Center</td>\n",
       "      <td>6</td>\n",
       "      <td>84</td>\n",
       "      <td>238</td>\n",
       "    </tr>\n",
       "  </tbody>\n",
       "</table>\n",
       "<p>5 rows × 23 columns</p>\n",
       "</div>"
      ],
      "text/plain": [
       "                        City 1st Most Common Venue  1st Venue Frequency  \\\n",
       "0       University of Oxford                   Pub                   42   \n",
       "1  University of Southampton         Grocery Store                   41   \n",
       "2       University of Sussex                   Pub                   15   \n",
       "3      University of Reading                   Pub                   35   \n",
       "4    University of Cambridge                   Pub                   39   \n",
       "\n",
       "  2nd Most Common Venue  2nd Venue Frequency 3rd Most Common Venue  \\\n",
       "0                 Hotel                   15         Grocery Store   \n",
       "1                   Pub                   35           Coffee Shop   \n",
       "2                  Café                   13           Coffee Shop   \n",
       "3         Grocery Store                   16           Coffee Shop   \n",
       "4           Coffee Shop                   13                  Café   \n",
       "\n",
       "   3rd Venue Frequency 4th Most Common Venue  4th Venue Frequency  \\\n",
       "0                   13           Coffee Shop                   11   \n",
       "1                   22           Supermarket                   13   \n",
       "2                   13                  Park                    9   \n",
       "3                   14                 Hotel                   12   \n",
       "4                   12         Grocery Store                   11   \n",
       "\n",
       "  5th Most Common Venue  ...  7th Most Common Venue 7th Venue Frequency  \\\n",
       "0                  Café  ...            Supermarket                   8   \n",
       "1  Fast Food Restaurant  ...            Pizza Place                   9   \n",
       "2         Grocery Store  ...            Pizza Place                   3   \n",
       "3           Supermarket  ...         Clothing Store                   8   \n",
       "4                 Hotel  ...              Gastropub                   7   \n",
       "\n",
       "   8th Most Common Venue 8th Venue Frequency  9th Most Common Venue  \\\n",
       "0     Chinese Restaurant                   7                 Bakery   \n",
       "1                  Hotel                   8                    Bar   \n",
       "2              Gastropub                   3      Indian Restaurant   \n",
       "3                   Café                   8   Gym / Fitness Center   \n",
       "4           Burger Joint                   6            Supermarket   \n",
       "\n",
       "  9th Venue Frequency  10th Most Common Venue 10th Venue Frequency  \\\n",
       "0                   7              Restaurant                    7   \n",
       "1                   7      Italian Restaurant                    7   \n",
       "2                   3                  Bakery                    3   \n",
       "3                   7                    Park                    7   \n",
       "4                   6    Gym / Fitness Center                    6   \n",
       "\n",
       "   Unique Categories Total Venues  \n",
       "0                102          279  \n",
       "1                 93          314  \n",
       "2                 66          139  \n",
       "3                104          290  \n",
       "4                 84          238  \n",
       "\n",
       "[5 rows x 23 columns]"
      ]
     },
     "execution_count": 11,
     "metadata": {},
     "output_type": "execute_result"
    }
   ],
   "source": [
    "universities_full.head()"
   ]
  },
  {
   "cell_type": "markdown",
   "metadata": {},
   "source": [
    "Let's look at these universities on the map."
   ]
  },
  {
   "cell_type": "code",
   "execution_count": 12,
   "metadata": {},
   "outputs": [
    {
     "data": {
      "text/html": [
       "<div style=\"width:100%;\"><div style=\"position:relative;width:100%;height:0;padding-bottom:60%;\"><iframe src=\"data:text/html;charset=utf-8;base64,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\" style=\"position:absolute;width:100%;height:100%;left:0;top:0;border:none !important;\" allowfullscreen webkitallowfullscreen mozallowfullscreen></iframe></div></div>"
      ],
      "text/plain": [
       "<folium.folium.Map at 0xe3f3278>"
      ]
     },
     "execution_count": 12,
     "metadata": {},
     "output_type": "execute_result"
    }
   ],
   "source": [
    "map_large = folium.Map(location=[52.8555, -1.1743], zoom_start=6)\n",
    "\n",
    "for name, lt, lg in zip(universities['UNIVERSITY'],universities['LATITUDE'],universities['LONGITUDE']):\n",
    "    label = folium.Popup(name, parse_html=True)\n",
    "    folium.CircleMarker(\n",
    "        [lt, lg],\n",
    "        radius=5,\n",
    "        popup=label,\n",
    "        color='red',\n",
    "        fill=True,\n",
    "        fill_color='#800020',\n",
    "        fill_opacity=0.7,\n",
    "        parse_html=False).add_to(map_large) \n",
    "    \n",
    "map_large"
   ]
  },
  {
   "cell_type": "markdown",
   "metadata": {},
   "source": [
    "One more function to define. How do we know which number of clusters is optimal? The elbow method and the silhouette score can be used in tandem to confirm the optimal K. See the report for more details."
   ]
  },
  {
   "cell_type": "code",
   "execution_count": 26,
   "metadata": {},
   "outputs": [],
   "source": [
    "from sklearn.metrics import silhouette_score\n",
    "pylab.rcParams[\"font.family\"] = \"Times New Roman\"\n",
    "#elbow method\n",
    "\n",
    "def kmean_optimize(points,kmax,ins='random',itrs=12,rs=1,plot='yes',save='no'):\n",
    "    \n",
    "    sse = []\n",
    "    sil = []\n",
    "    k_values = np.arange(2,kmax+1,1)\n",
    "    \n",
    "    \n",
    "    for k in range(2,kmax+1):\n",
    "        k_means = KMeans(n_clusters=k,random_state=rs).fit(points)\n",
    "        \n",
    "        #elbow method\n",
    "            \n",
    "        sse.append(k_means.inertia_)\n",
    "        \n",
    "        #silhouette method\n",
    "        \n",
    "        labels = k_means.labels_\n",
    "        score = silhouette_score(points, labels, metric = 'euclidean')\n",
    "        sil.append(score)\n",
    "        \n",
    "        \n",
    "    if plot == 'yes':\n",
    "        \n",
    "        #plot k vs sse\n",
    "        #pylab.subplot(2,1,1)\n",
    "        pylab.plot(k_values,sse,color='blue')\n",
    "        pylab.title('Inertia vs. Number of Clusters',size=20,weight='bold')\n",
    "        pylab.ylabel('Inertia',size=15)\n",
    "        pylab.xlabel('Number of Clusters K',size=15)\n",
    "        pylab.yticks(np.arange(0,62,step=10))\n",
    "        pylab.grid(True)\n",
    "        if save !='no': pylab.savefig('Inertia.png',dpi=1000)\n",
    "        \n",
    "        \n",
    "        pylab.show()\n",
    "        #plot k vs sil\n",
    "        #pylab.subplot(2,1,2)\n",
    "        pylab.plot(k_values,sil,color='red')\n",
    "        pylab.title('Silhouette Score vs. Number of Clusters', size=20,weight='bold')\n",
    "        pylab.xlabel('Number of Clusters K', size=15)\n",
    "        pylab.ylabel('Silhouette Score', size=15)\n",
    "        pylab.yticks(np.arange(0.5,1.0,step=0.1))\n",
    "        pylab.grid(True)\n",
    "        if save != 'no':pylab.savefig('Silhouette Score.png', dpi=1000)\n",
    "        \n",
    "        if save != 'no':\n",
    "            pylab.savefig(save, dpi = 1000)\n",
    "        \n",
    "    \n",
    "        pylab.show()\n",
    "    \n",
    "    return sse, sil, np.argmax(b)+2"
   ]
  },
  {
   "cell_type": "code",
   "execution_count": 27,
   "metadata": {},
   "outputs": [],
   "source": [
    "universities_grouped = universities_grouped.fillna(0)\n",
    "\n",
    "universities_grouped_clustering = universities_grouped.drop('City', 1)"
   ]
  },
  {
   "cell_type": "markdown",
   "metadata": {},
   "source": [
    "Alright, let's see what we have:"
   ]
  },
  {
   "cell_type": "code",
   "execution_count": 28,
   "metadata": {},
   "outputs": [
    {
     "data": {
      "image/png": "[encoded data removed]",
      "text/plain": [
       "<Figure size 432x288 with 1 Axes>"
      ]
     },
     "metadata": {
      "needs_background": "light"
     },
     "output_type": "display_data"
    },
    {
     "data": {
      "image/png": "[encoded data removed]",
      "text/plain": [
       "<Figure size 432x288 with 1 Axes>"
      ]
     },
     "metadata": {
      "needs_background": "light"
     },
     "output_type": "display_data"
    }
   ],
   "source": [
    "a,b,c= kmean_optimize(universities_grouped_clustering,15)"
   ]
  },
  {
   "cell_type": "code",
   "execution_count": 25,
   "metadata": {},
   "outputs": [
    {
     "data": {
      "text/plain": [
       "10"
      ]
     },
     "execution_count": 25,
     "metadata": {},
     "output_type": "execute_result"
    }
   ],
   "source": [
    "c"
   ]
  },
  {
   "cell_type": "markdown",
   "metadata": {},
   "source": [
    "The best k is shown to be k =10. Now let's run kmeans with this number!"
   ]
  },
  {
   "cell_type": "code",
   "execution_count": 16,
   "metadata": {},
   "outputs": [
    {
     "data": {
      "text/plain": [
       "array([5, 5, 5, 3, 4, 7, 8, 6, 2, 0])"
      ]
     },
     "execution_count": 16,
     "metadata": {},
     "output_type": "execute_result"
    }
   ],
   "source": [
    "# set number of clusters\n",
    "kclusters = 10\n",
    "\n",
    "# run k-means clustering\n",
    "k_means = KMeans(n_clusters=kclusters,init='random', n_init=1, random_state=100).fit(universities_grouped_clustering)\n",
    "\n",
    "# check cluster labels generated for each row in the dataframe\n",
    "k_means.labels_[0:10] "
   ]
  },
  {
   "cell_type": "code",
   "execution_count": 17,
   "metadata": {},
   "outputs": [
    {
     "data": {
      "text/html": [
       "<div>\n",
       "<style scoped>\n",
       "    .dataframe tbody tr th:only-of-type {\n",
       "        vertical-align: middle;\n",
       "    }\n",
       "\n",
       "    .dataframe tbody tr th {\n",
       "        vertical-align: top;\n",
       "    }\n",
       "\n",
       "    .dataframe thead th {\n",
       "        text-align: right;\n",
       "    }\n",
       "</style>\n",
       "<table border=\"1\" class=\"dataframe\">\n",
       "  <thead>\n",
       "    <tr style=\"text-align: right;\">\n",
       "      <th></th>\n",
       "      <th>REGION</th>\n",
       "      <th>City</th>\n",
       "      <th>LATITUDE</th>\n",
       "      <th>LONGITUDE</th>\n",
       "      <th>Cluster Labels</th>\n",
       "      <th>1st Most Common Venue</th>\n",
       "      <th>1st Venue Frequency</th>\n",
       "      <th>2nd Most Common Venue</th>\n",
       "      <th>2nd Venue Frequency</th>\n",
       "      <th>3rd Most Common Venue</th>\n",
       "      <th>...</th>\n",
       "      <th>7th Most Common Venue</th>\n",
       "      <th>7th Venue Frequency</th>\n",
       "      <th>8th Most Common Venue</th>\n",
       "      <th>8th Venue Frequency</th>\n",
       "      <th>9th Most Common Venue</th>\n",
       "      <th>9th Venue Frequency</th>\n",
       "      <th>10th Most Common Venue</th>\n",
       "      <th>10th Venue Frequency</th>\n",
       "      <th>Unique Categories</th>\n",
       "      <th>Total Venues</th>\n",
       "    </tr>\n",
       "  </thead>\n",
       "  <tbody>\n",
       "    <tr>\n",
       "      <th>0</th>\n",
       "      <td>SOUTH ENGLAND</td>\n",
       "      <td>University of Oxford</td>\n",
       "      <td>51.7548</td>\n",
       "      <td>-1.2544</td>\n",
       "      <td>5</td>\n",
       "      <td>Pub</td>\n",
       "      <td>42</td>\n",
       "      <td>Hotel</td>\n",
       "      <td>15</td>\n",
       "      <td>Grocery Store</td>\n",
       "      <td>...</td>\n",
       "      <td>Supermarket</td>\n",
       "      <td>8</td>\n",
       "      <td>Chinese Restaurant</td>\n",
       "      <td>7</td>\n",
       "      <td>Bakery</td>\n",
       "      <td>7</td>\n",
       "      <td>Restaurant</td>\n",
       "      <td>7</td>\n",
       "      <td>102</td>\n",
       "      <td>279</td>\n",
       "    </tr>\n",
       "    <tr>\n",
       "      <th>1</th>\n",
       "      <td>SOUTH ENGLAND</td>\n",
       "      <td>University of Southampton</td>\n",
       "      <td>50.9351</td>\n",
       "      <td>-1.3958</td>\n",
       "      <td>5</td>\n",
       "      <td>Grocery Store</td>\n",
       "      <td>41</td>\n",
       "      <td>Pub</td>\n",
       "      <td>35</td>\n",
       "      <td>Coffee Shop</td>\n",
       "      <td>...</td>\n",
       "      <td>Pizza Place</td>\n",
       "      <td>9</td>\n",
       "      <td>Hotel</td>\n",
       "      <td>8</td>\n",
       "      <td>Bar</td>\n",
       "      <td>7</td>\n",
       "      <td>Italian Restaurant</td>\n",
       "      <td>7</td>\n",
       "      <td>93</td>\n",
       "      <td>314</td>\n",
       "    </tr>\n",
       "    <tr>\n",
       "      <th>2</th>\n",
       "      <td>SOUTH ENGLAND</td>\n",
       "      <td>University of Sussex</td>\n",
       "      <td>50.8671</td>\n",
       "      <td>-0.0879</td>\n",
       "      <td>5</td>\n",
       "      <td>Pub</td>\n",
       "      <td>15</td>\n",
       "      <td>Café</td>\n",
       "      <td>13</td>\n",
       "      <td>Coffee Shop</td>\n",
       "      <td>...</td>\n",
       "      <td>Pizza Place</td>\n",
       "      <td>3</td>\n",
       "      <td>Gastropub</td>\n",
       "      <td>3</td>\n",
       "      <td>Indian Restaurant</td>\n",
       "      <td>3</td>\n",
       "      <td>Bakery</td>\n",
       "      <td>3</td>\n",
       "      <td>66</td>\n",
       "      <td>139</td>\n",
       "    </tr>\n",
       "    <tr>\n",
       "      <th>3</th>\n",
       "      <td>SOUTH ENGLAND</td>\n",
       "      <td>University of Reading</td>\n",
       "      <td>51.4414</td>\n",
       "      <td>-0.9418</td>\n",
       "      <td>3</td>\n",
       "      <td>Pub</td>\n",
       "      <td>35</td>\n",
       "      <td>Grocery Store</td>\n",
       "      <td>16</td>\n",
       "      <td>Coffee Shop</td>\n",
       "      <td>...</td>\n",
       "      <td>Clothing Store</td>\n",
       "      <td>8</td>\n",
       "      <td>Café</td>\n",
       "      <td>8</td>\n",
       "      <td>Gym / Fitness Center</td>\n",
       "      <td>7</td>\n",
       "      <td>Park</td>\n",
       "      <td>7</td>\n",
       "      <td>104</td>\n",
       "      <td>290</td>\n",
       "    </tr>\n",
       "    <tr>\n",
       "      <th>4</th>\n",
       "      <td>SOUTH ENGLAND</td>\n",
       "      <td>University of Cambridge</td>\n",
       "      <td>52.2043</td>\n",
       "      <td>0.1149</td>\n",
       "      <td>4</td>\n",
       "      <td>Pub</td>\n",
       "      <td>39</td>\n",
       "      <td>Coffee Shop</td>\n",
       "      <td>13</td>\n",
       "      <td>Café</td>\n",
       "      <td>...</td>\n",
       "      <td>Gastropub</td>\n",
       "      <td>7</td>\n",
       "      <td>Burger Joint</td>\n",
       "      <td>6</td>\n",
       "      <td>Supermarket</td>\n",
       "      <td>6</td>\n",
       "      <td>Gym / Fitness Center</td>\n",
       "      <td>6</td>\n",
       "      <td>84</td>\n",
       "      <td>238</td>\n",
       "    </tr>\n",
       "  </tbody>\n",
       "</table>\n",
       "<p>5 rows × 27 columns</p>\n",
       "</div>"
      ],
      "text/plain": [
       "          REGION                       City  LATITUDE  LONGITUDE  \\\n",
       "0  SOUTH ENGLAND       University of Oxford   51.7548    -1.2544   \n",
       "1  SOUTH ENGLAND  University of Southampton   50.9351    -1.3958   \n",
       "2  SOUTH ENGLAND       University of Sussex   50.8671    -0.0879   \n",
       "3  SOUTH ENGLAND      University of Reading   51.4414    -0.9418   \n",
       "4  SOUTH ENGLAND    University of Cambridge   52.2043     0.1149   \n",
       "\n",
       "   Cluster Labels 1st Most Common Venue  1st Venue Frequency  \\\n",
       "0               5                   Pub                   42   \n",
       "1               5         Grocery Store                   41   \n",
       "2               5                   Pub                   15   \n",
       "3               3                   Pub                   35   \n",
       "4               4                   Pub                   39   \n",
       "\n",
       "  2nd Most Common Venue  2nd Venue Frequency 3rd Most Common Venue  ...  \\\n",
       "0                 Hotel                   15         Grocery Store  ...   \n",
       "1                   Pub                   35           Coffee Shop  ...   \n",
       "2                  Café                   13           Coffee Shop  ...   \n",
       "3         Grocery Store                   16           Coffee Shop  ...   \n",
       "4           Coffee Shop                   13                  Café  ...   \n",
       "\n",
       "   7th Most Common Venue 7th Venue Frequency  8th Most Common Venue  \\\n",
       "0            Supermarket                   8     Chinese Restaurant   \n",
       "1            Pizza Place                   9                  Hotel   \n",
       "2            Pizza Place                   3              Gastropub   \n",
       "3         Clothing Store                   8                   Café   \n",
       "4              Gastropub                   7           Burger Joint   \n",
       "\n",
       "  8th Venue Frequency  9th Most Common Venue 9th Venue Frequency  \\\n",
       "0                   7                 Bakery                   7   \n",
       "1                   8                    Bar                   7   \n",
       "2                   3      Indian Restaurant                   3   \n",
       "3                   8   Gym / Fitness Center                   7   \n",
       "4                   6            Supermarket                   6   \n",
       "\n",
       "   10th Most Common Venue 10th Venue Frequency  Unique Categories Total Venues  \n",
       "0              Restaurant                    7                102          279  \n",
       "1      Italian Restaurant                    7                 93          314  \n",
       "2                  Bakery                    3                 66          139  \n",
       "3                    Park                    7                104          290  \n",
       "4    Gym / Fitness Center                    6                 84          238  \n",
       "\n",
       "[5 rows x 27 columns]"
      ]
     },
     "execution_count": 17,
     "metadata": {},
     "output_type": "execute_result"
    }
   ],
   "source": [
    "universities.rename(columns={'UNIVERSITY':'City'},inplace=True)\n",
    "\n",
    "# add clustering labels\n",
    "universities_full.insert(0, 'Cluster Labels', k_means.labels_)\n",
    "\n",
    "universities_merged = universities\n",
    "\n",
    "# merge toronto_grouped with toronto_data to add latitude/longitude for each neighborhood\n",
    "universities_merged = universities_merged.join(universities_full.set_index('City'), on='City')\n",
    "\n",
    "universities_merged.head() # check the last columns!"
   ]
  },
  {
   "cell_type": "markdown",
   "metadata": {},
   "source": [
    "Finally, let's look at our results on the map:"
   ]
  },
  {
   "cell_type": "code",
   "execution_count": 18,
   "metadata": {},
   "outputs": [
    {
     "data": {
      "text/html": [
       "<div style=\"width:100%;\"><div style=\"position:relative;width:100%;height:0;padding-bottom:60%;\"><iframe src=\"data:text/html;charset=utf-8;base64,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\" style=\"position:absolute;width:100%;height:100%;left:0;top:0;border:none !important;\" allowfullscreen webkitallowfullscreen mozallowfullscreen></iframe></div></div>"
      ],
      "text/plain": [
       "<folium.folium.Map at 0xee2e2e8>"
      ]
     },
     "execution_count": 18,
     "metadata": {},
     "output_type": "execute_result"
    }
   ],
   "source": [
    "# create map\n",
    "map_clusters = folium.Map(location=[52.8555, -1.1743], zoom_start=6)\n",
    "\n",
    "# set color scheme for the clusters\n",
    "x = np.arange(kclusters)\n",
    "ys = [i + x + (i*x)**2 for i in range(kclusters)]\n",
    "colors_array = cm.rainbow(np.linspace(0, 1, len(ys)))\n",
    "rainbow = [colors.rgb2hex(i) for i in colors_array]\n",
    "\n",
    "# add markers to the map\n",
    "markers_colors = []\n",
    "for lat, lon, poi, cluster in zip(universities_merged['LATITUDE'], universities_merged['LONGITUDE'], universities_merged['City'], universities_merged['Cluster Labels']):\n",
    "    label = folium.Popup(str(poi) + ' Cluster ' + str(cluster), parse_html=True)\n",
    "    folium.CircleMarker(\n",
    "        [lat, lon],\n",
    "        radius=8,\n",
    "        popup=label,\n",
    "        color='black',\n",
    "        fill=True,\n",
    "        fill_color=rainbow[cluster-1],\n",
    "        fill_opacity=0.7).add_to(map_clusters)\n",
    "       \n",
    "map_clusters"
   ]
  }
 ],
 "metadata": {
  "kernelspec": {
   "display_name": "Python 2",
   "language": "python",
   "name": "python2"
  },
  "language_info": {
   "codemirror_mode": {
    "name": "ipython",
    "version": 2
   },
   "file_extension": ".py",
   "mimetype": "text/x-python",
   "name": "python",
   "nbconvert_exporter": "python",
   "pygments_lexer": "ipython2",
   "version": "2.7.16"
  }
 },
 "nbformat": 4,
 "nbformat_minor": 2
}
